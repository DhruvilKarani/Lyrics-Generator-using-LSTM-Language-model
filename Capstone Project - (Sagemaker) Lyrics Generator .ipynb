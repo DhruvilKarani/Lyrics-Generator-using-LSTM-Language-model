{
 "cells": [
  {
   "cell_type": "code",
   "execution_count": 228,
   "metadata": {},
   "outputs": [],
   "source": [
    "import pandas as pd\n",
    "import numpy as np\n",
    "import torch\n",
    "import torch.utils.data\n",
    "import torch.nn as nn\n",
    "from torch.autograd import Variable\n",
    "from torch import optim\n",
    "import torch.nn.functional as F\n",
    "import seaborn as sns\n",
    "import matplotlib.pyplot as plt\n",
    "import re\n",
    "import string\n"
   ]
  },
  {
   "cell_type": "code",
   "execution_count": 229,
   "metadata": {},
   "outputs": [],
   "source": [
    "#getting the data\n",
    "df = pd.read_csv('data/songdata.csv')\n",
    "df = df.iloc[:200,:]"
   ]
  },
  {
   "cell_type": "code",
   "execution_count": 230,
   "metadata": {},
   "outputs": [
    {
     "data": {
      "text/plain": [
       "['artist', 'song', 'link', 'text']"
      ]
     },
     "execution_count": 230,
     "metadata": {},
     "output_type": "execute_result"
    }
   ],
   "source": [
    "list(df)"
   ]
  },
  {
   "cell_type": "code",
   "execution_count": 231,
   "metadata": {},
   "outputs": [],
   "source": [
    "song_lyrics = list(df['text'])"
   ]
  },
  {
   "cell_type": "markdown",
   "metadata": {},
   "source": [
    "## Exploratory Analysis\n",
    "We look at basic statistics like dataset size, average number of words in titles and lyrics, distribution of unique word counts"
   ]
  },
  {
   "cell_type": "code",
   "execution_count": 232,
   "metadata": {},
   "outputs": [
    {
     "name": "stdout",
     "output_type": "stream",
     "text": [
      "Dataset size: 200\n"
     ]
    }
   ],
   "source": [
    "print(\"Dataset size:\", df.shape[0])"
   ]
  },
  {
   "cell_type": "code",
   "execution_count": 233,
   "metadata": {},
   "outputs": [
    {
     "name": "stdout",
     "output_type": "stream",
     "text": [
      "\n",
      "Example song lyrics:\n",
      " I'll never know why I had to go  \n",
      "Why I had to put up such a lousy rotten show  \n",
      "Boy, I was tough, packing all my stuff  \n",
      "Saying I don't need you anymore, I've had enough  \n",
      "And now, look at me standing here again 'cause I found out that  \n",
      "Ma ma ma ma ma ma ma ma ma ma ma ma ma ma ma ma my life is here  \n",
      "Gotta have you near  \n",
      "  \n",
      "As good as new, my love for you  \n",
      "And keeping it that way is my intention  \n",
      "As good as new and growing too  \n",
      "Yes, I think it's taking on a new dimension  \n",
      "It's as good as new, my love for you  \n",
      "Just like it used to be and even better  \n",
      "As good as new, thank God it's true  \n",
      "Darling, we were always meant to stay together  \n",
      "  \n",
      "Feel like a creep, never felt so cheap  \n",
      "Never had a notion that my love could be so deep  \n",
      "How could I make such a dumb mistake  \n",
      "Now I know I'm not entitled to another break  \n",
      "But please, baby, I beg you to forgive 'cause I found out that  \n",
      "Ma ma ma ma ma ma ma ma ma ma ma ma ma ma ma ma my life is here  \n",
      "Gotta get you near  \n",
      "  \n",
      "I thought that our love was at an end but here I am again  \n",
      "  \n",
      "As good as new, my love for you  \n",
      "And keeping it that way is my intention  \n",
      "As good as new and growing too  \n",
      "Yes, I think it's taking on a new dimension  \n",
      "It's as good as new, my love for you  \n",
      "Just like it used to be and even better  \n",
      "As good as new, thank God it's true  \n",
      "Darling, we were always meant to stay together  \n",
      "  \n",
      "Yes the love I have for you feels as good as new  \n",
      "Darling, we were always meant to stay together\n",
      "\n",
      "\n"
     ]
    }
   ],
   "source": [
    "print(\"\\nExample song lyrics:\\n\", song_lyrics[2])"
   ]
  },
  {
   "cell_type": "code",
   "execution_count": 234,
   "metadata": {},
   "outputs": [],
   "source": [
    "del df"
   ]
  },
  {
   "cell_type": "code",
   "execution_count": 235,
   "metadata": {},
   "outputs": [
    {
     "name": "stdout",
     "output_type": "stream",
     "text": [
      "\n",
      "Mean number of words in song lyrics: 241.94\n"
     ]
    }
   ],
   "source": [
    "def mean_words(text_list):\n",
    "    tokens = list(map(lambda x: len(x.split()), text_list))\n",
    "    return np.mean(tokens)\n",
    "\n",
    "print(\"\\nMean number of words in song lyrics:\", mean_words(song_lyrics))"
   ]
  },
  {
   "cell_type": "code",
   "execution_count": 236,
   "metadata": {},
   "outputs": [],
   "source": [
    "from collections import Counter\n",
    "\n",
    "def most_fequent(text_list,start,stop):\n",
    "    '''\n",
    "    Get most frequent words and their counts\n",
    "    Input:\n",
    "        -text_list: List of strings\n",
    "        -start, stop: int, int. They represent the range of the most frequent word\n",
    "    Output:\n",
    "        -List of tuples\n",
    "    '''\n",
    "    vocab = []\n",
    "    for text in text_list:\n",
    "        vocab.extend(text.split())\n",
    "        \n",
    "    word_count = dict(Counter(vocab))\n",
    "    word_count = sorted(word_count.items(), key  = lambda x: x[1], reverse = True)\n",
    "    \n",
    "    print(\"Most frequent n words\",word_count[start:stop])\n",
    "    print(\"Total number of words\", len(vocab))\n",
    "    print(\"Total number of unique words\", len(set(vocab)))\n",
    "            \n"
   ]
  },
  {
   "cell_type": "code",
   "execution_count": 237,
   "metadata": {
    "scrolled": false
   },
   "outputs": [
    {
     "name": "stdout",
     "output_type": "stream",
     "text": [
      "For lyrics:\n",
      "\n",
      "Most frequent n words [('the', 1764), ('I', 1734), ('you', 1189), ('a', 1177), ('to', 880)]\n",
      "Total number of words 48388\n",
      "Total number of unique words 5238\n"
     ]
    }
   ],
   "source": [
    "print(\"For lyrics:\\n\")\n",
    "most_fequent(song_lyrics, 0, 5)"
   ]
  },
  {
   "cell_type": "code",
   "execution_count": 238,
   "metadata": {},
   "outputs": [],
   "source": [
    "def groupby_counts(text_list, count):\n",
    "    '''\n",
    "    Computes fraction of unique words by their counts in the dataset\n",
    "    Input:\n",
    "        -text_list: List of strings\n",
    "        -count: int. Count for which fraction of unique tokens should be obtained\n",
    "    Output:\n",
    "        -fraction: float <1, >0\n",
    "    '''\n",
    "    vocab = []\n",
    "    for text in text_list:\n",
    "        vocab.extend(text.split())\n",
    "        \n",
    "    word_count = dict(Counter(vocab))\n",
    "    count_n_words = [key for key,value in word_count.items() if value == count]\n",
    "    \n",
    "    return len(count_n_words)/len(word_count)"
   ]
  },
  {
   "cell_type": "code",
   "execution_count": 239,
   "metadata": {},
   "outputs": [
    {
     "data": {
      "text/plain": [
       "Text(0.5, 1.0, 'Fraction of unique words vs Counts (lyrics)')"
      ]
     },
     "execution_count": 239,
     "metadata": {},
     "output_type": "execute_result"
    },
    {
     "data": {
      "image/png": "[encoded data removed]",
      "text/plain": [
       "<Figure size 432x288 with 1 Axes>"
      ]
     },
     "metadata": {},
     "output_type": "display_data"
    }
   ],
   "source": [
    "counts = list(range(10))\n",
    "fraction = [groupby_counts(song_lyrics, count) for count in counts]\n",
    "plt.plot(counts, fraction)\n",
    "plt.xlabel('Counts')\n",
    "plt.ylabel('Fraction')\n",
    "plt.title(\"Fraction of unique words vs Counts (lyrics)\")"
   ]
  },
  {
   "cell_type": "markdown",
   "metadata": {},
   "source": [
    "## Conclusion\n",
    "Since more than 60% of words in the song lyrics occur less than or equal to 2 times, replacing them with <UNK> token would eliminate most of our vocabulary. Hence we decide to use subword models like character level LSTM"
   ]
  },
  {
   "cell_type": "markdown",
   "metadata": {},
   "source": [
    "## Data Cleaning\n",
    "We perform text normalization like removal of punctuation, lowercasing, etc. We also add tags like <NEW> - new line, <START> - start of a song, <END> - end of a song"
   ]
  },
  {
   "cell_type": "code",
   "execution_count": 240,
   "metadata": {},
   "outputs": [],
   "source": [
    "punctuation = string.punctuation\n",
    "\n",
    "def normalize(string, punctuation = punctuation):\n",
    "    '''\n",
    "    Perform normalizing operations like lowercasing, removing\n",
    "    punctuation\n",
    "    \n",
    "    -Input: \n",
    "        string: string to be normalized\n",
    "        punctuation: string of uniuqe punctuation characters\n",
    "        \n",
    "    -Output:\n",
    "        a normalized string\n",
    "    '''\n",
    "    string = string.lower()\n",
    "    transtable = str.maketrans('', '', punctuation)\n",
    "    string = string.translate(transtable)\n",
    "    return string"
   ]
  },
  {
   "cell_type": "code",
   "execution_count": 241,
   "metadata": {},
   "outputs": [
    {
     "name": "stdout",
     "output_type": "stream",
     "text": [
      "Example of normalized lyrics: \n",
      "\n",
      "look at her face its a wonderful face  \n",
      "and it means something special to me  \n",
      "look at the way that she smiles when she sees me  \n",
      "how lucky can one fellow be  \n",
      "  \n",
      "shes just my kind of girl she makes me feel fine  \n",
      "who could ever believe that she could be mine  \n",
      "shes just my kind of girl without her im blue  \n",
      "and if she ever leaves me what could i do what could i do  \n",
      "  \n",
      "and when we go for a walk in the park  \n",
      "and she holds me and squeezes my hand  \n",
      "well go on walking for hours and talking  \n",
      "about all the things that we plan  \n",
      "  \n",
      "shes just my kind of girl she makes me feel fine  \n",
      "who could ever believe that she could be mine  \n",
      "shes just my kind of girl without her im blue  \n",
      "and if she ever leaves me what could i do what could i do\n",
      "\n",
      "\n"
     ]
    }
   ],
   "source": [
    "print(\"Example of normalized lyrics: \\n\")\n",
    "print(normalize(song_lyrics[0]))"
   ]
  },
  {
   "cell_type": "code",
   "execution_count": 242,
   "metadata": {},
   "outputs": [],
   "source": [
    "#normalizing lyrics\n",
    "song_lyrics = list(map(normalize, song_lyrics))\n"
   ]
  },
  {
   "cell_type": "code",
   "execution_count": 243,
   "metadata": {},
   "outputs": [],
   "source": [
    "#defining tags for constructing char to index dictionary\n",
    "NEW_LINE = '!'\n",
    "SPACE = ' '\n",
    "additional_chars = NEW_LINE + SPACE \n",
    "\n",
    "\n",
    "def char_dict(additional_chars):\n",
    "    '''\n",
    "    Build character to unique index mapping and vice versa\n",
    "    -Input: additional non numeric non alphabetical characters\n",
    "            for example - '? !' has three such characters\n",
    "            \n",
    "    -Output: 2 dictionaries. char2index (character to index mapping)\n",
    "             and index2char (reverse mapping of char2index)\n",
    "    '''\n",
    "    char_set = list(string.ascii_lowercase + string.digits + additional_chars)\n",
    "    index2char = dict(enumerate(char_set))\n",
    "    char2index = {value:key for key,value in index2char.items()}\n",
    "    \n",
    "    return char2index, index2char"
   ]
  },
  {
   "cell_type": "code",
   "execution_count": 244,
   "metadata": {},
   "outputs": [],
   "source": [
    "char2index, index2char = char_dict(additional_chars)"
   ]
  },
  {
   "cell_type": "code",
   "execution_count": 245,
   "metadata": {},
   "outputs": [
    {
     "name": "stdout",
     "output_type": "stream",
     "text": [
      "{'a': 0, 'b': 1, 'c': 2, 'd': 3, 'e': 4, 'f': 5, 'g': 6, 'h': 7, 'i': 8, 'j': 9, 'k': 10, 'l': 11, 'm': 12, 'n': 13, 'o': 14, 'p': 15, 'q': 16, 'r': 17, 's': 18, 't': 19, 'u': 20, 'v': 21, 'w': 22, 'x': 23, 'y': 24, 'z': 25, '0': 26, '1': 27, '2': 28, '3': 29, '4': 30, '5': 31, '6': 32, '7': 33, '8': 34, '9': 35, '!': 36, ' ': 37}\n"
     ]
    }
   ],
   "source": [
    "print(char2index)"
   ]
  },
  {
   "cell_type": "code",
   "execution_count": 246,
   "metadata": {},
   "outputs": [
    {
     "name": "stdout",
     "output_type": "stream",
     "text": [
      "{0: 'a', 1: 'b', 2: 'c', 3: 'd', 4: 'e', 5: 'f', 6: 'g', 7: 'h', 8: 'i', 9: 'j', 10: 'k', 11: 'l', 12: 'm', 13: 'n', 14: 'o', 15: 'p', 16: 'q', 17: 'r', 18: 's', 19: 't', 20: 'u', 21: 'v', 22: 'w', 23: 'x', 24: 'y', 25: 'z', 26: '0', 27: '1', 28: '2', 29: '3', 30: '4', 31: '5', 32: '6', 33: '7', 34: '8', 35: '9', 36: '!', 37: ' '}\n"
     ]
    }
   ],
   "source": [
    "print(index2char)"
   ]
  },
  {
   "cell_type": "code",
   "execution_count": 247,
   "metadata": {},
   "outputs": [],
   "source": [
    "NEW_LINE = '!'\n",
    "def add_tags(string, new_line):\n",
    "    string = re.subn(r'\\n',new_line + ' ', string)[0]\n",
    "    \n",
    "    return string"
   ]
  },
  {
   "cell_type": "code",
   "execution_count": 248,
   "metadata": {},
   "outputs": [],
   "source": [
    "song_lyrics = list(map(lambda x: add_tags(x, new_line = NEW_LINE), song_lyrics))\n"
   ]
  },
  {
   "cell_type": "code",
   "execution_count": 249,
   "metadata": {},
   "outputs": [
    {
     "name": "stdout",
     "output_type": "stream",
     "text": [
      "Transformed song lyrics:\n",
      " look at her face its a wonderful face  ! and it means something special to me  ! look at the way that she smiles when she sees me  ! how lucky can one fellow be  !   ! shes just my kind of girl she makes me feel fine  ! who could ever believe that she could be mine  ! shes just my kind of girl without her im blue  ! and if she ever leaves me what could i do what could i do  !   ! and when we go for a walk in the park  ! and she holds me and squeezes my hand  ! well go on walking for hours and talking  ! about all the things that we plan  !   ! shes just my kind of girl she makes me feel fine  ! who could ever believe that she could be mine  ! shes just my kind of girl without her im blue  ! and if she ever leaves me what could i do what could i do! !  \n",
      "\n"
     ]
    }
   ],
   "source": [
    "print(\"Transformed song lyrics:\\n {} \\n\".format(song_lyrics[0]))"
   ]
  },
  {
   "cell_type": "code",
   "execution_count": 250,
   "metadata": {},
   "outputs": [],
   "source": [
    "def index_string(string, char2index):\n",
    "    sequence = [char2index[str(char)] for char in string]\n",
    "    return sequence"
   ]
  },
  {
   "cell_type": "code",
   "execution_count": 251,
   "metadata": {},
   "outputs": [
    {
     "name": "stdout",
     "output_type": "stream",
     "text": [
      "[11, 14, 14, 10, 37, 0, 19, 37, 7, 4, 17, 37, 5, 0, 2, 4, 37, 8, 19, 18, 37, 0, 37, 22, 14, 13, 3, 4, 17, 5, 20, 11, 37, 5, 0, 2, 4, 37, 37, 36, 37, 0, 13, 3, 37, 8, 19, 37, 12, 4, 0, 13, 18, 37, 18, 14, 12, 4, 19, 7, 8, 13, 6, 37, 18, 15, 4, 2, 8, 0, 11, 37, 19, 14, 37, 12, 4, 37, 37, 36, 37, 11, 14, 14, 10, 37, 0, 19, 37, 19, 7, 4, 37, 22, 0, 24, 37, 19, 7, 0, 19, 37, 18, 7, 4, 37, 18, 12, 8, 11, 4, 18, 37, 22, 7, 4, 13, 37, 18, 7, 4, 37, 18, 4, 4, 18, 37, 12, 4, 37, 37, 36, 37, 7, 14, 22, 37, 11, 20, 2, 10, 24, 37, 2, 0, 13, 37, 14, 13, 4, 37, 5, 4, 11, 11, 14, 22, 37, 1, 4, 37, 37, 36, 37, 37, 37, 36, 37, 18, 7, 4, 18, 37, 9, 20, 18, 19, 37, 12, 24, 37, 10, 8, 13, 3, 37, 14, 5, 37, 6, 8, 17, 11, 37, 18, 7, 4, 37, 12, 0, 10, 4, 18, 37, 12, 4, 37, 5, 4, 4, 11, 37, 5, 8, 13, 4, 37, 37, 36, 37, 22, 7, 14, 37, 2, 14, 20, 11, 3, 37, 4, 21, 4, 17, 37, 1, 4, 11, 8, 4, 21, 4, 37, 19, 7, 0, 19, 37, 18, 7, 4, 37, 2, 14, 20, 11, 3, 37, 1, 4, 37, 12, 8, 13, 4, 37, 37, 36, 37, 18, 7, 4, 18, 37, 9, 20, 18, 19, 37, 12, 24, 37, 10, 8, 13, 3, 37, 14, 5, 37, 6, 8, 17, 11, 37, 22, 8, 19, 7, 14, 20, 19, 37, 7, 4, 17, 37, 8, 12, 37, 1, 11, 20, 4, 37, 37, 36, 37, 0, 13, 3, 37, 8, 5, 37, 18, 7, 4, 37, 4, 21, 4, 17, 37, 11, 4, 0, 21, 4, 18, 37, 12, 4, 37, 22, 7, 0, 19, 37, 2, 14, 20, 11, 3, 37, 8, 37, 3, 14, 37, 22, 7, 0, 19, 37, 2, 14, 20, 11, 3, 37, 8, 37, 3, 14, 37, 37, 36, 37, 37, 37, 36, 37, 0, 13, 3, 37, 22, 7, 4, 13, 37, 22, 4, 37, 6, 14, 37, 5, 14, 17, 37, 0, 37, 22, 0, 11, 10, 37, 8, 13, 37, 19, 7, 4, 37, 15, 0, 17, 10, 37, 37, 36, 37, 0, 13, 3, 37, 18, 7, 4, 37, 7, 14, 11, 3, 18, 37, 12, 4, 37, 0, 13, 3, 37, 18, 16, 20, 4, 4, 25, 4, 18, 37, 12, 24, 37, 7, 0, 13, 3, 37, 37, 36, 37, 22, 4, 11, 11, 37, 6, 14, 37, 14, 13, 37, 22, 0, 11, 10, 8, 13, 6, 37, 5, 14, 17, 37, 7, 14, 20, 17, 18, 37, 0, 13, 3, 37, 19, 0, 11, 10, 8, 13, 6, 37, 37, 36, 37, 0, 1, 14, 20, 19, 37, 0, 11, 11, 37, 19, 7, 4, 37, 19, 7, 8, 13, 6, 18, 37, 19, 7, 0, 19, 37, 22, 4, 37, 15, 11, 0, 13, 37, 37, 36, 37, 37, 37, 36, 37, 18, 7, 4, 18, 37, 9, 20, 18, 19, 37, 12, 24, 37, 10, 8, 13, 3, 37, 14, 5, 37, 6, 8, 17, 11, 37, 18, 7, 4, 37, 12, 0, 10, 4, 18, 37, 12, 4, 37, 5, 4, 4, 11, 37, 5, 8, 13, 4, 37, 37, 36, 37, 22, 7, 14, 37, 2, 14, 20, 11, 3, 37, 4, 21, 4, 17, 37, 1, 4, 11, 8, 4, 21, 4, 37, 19, 7, 0, 19, 37, 18, 7, 4, 37, 2, 14, 20, 11, 3, 37, 1, 4, 37, 12, 8, 13, 4, 37, 37, 36, 37, 18, 7, 4, 18, 37, 9, 20, 18, 19, 37, 12, 24, 37, 10, 8, 13, 3, 37, 14, 5, 37, 6, 8, 17, 11, 37, 22, 8, 19, 7, 14, 20, 19, 37, 7, 4, 17, 37, 8, 12, 37, 1, 11, 20, 4, 37, 37, 36, 37, 0, 13, 3, 37, 8, 5, 37, 18, 7, 4, 37, 4, 21, 4, 17, 37, 11, 4, 0, 21, 4, 18, 37, 12, 4, 37, 22, 7, 0, 19, 37, 2, 14, 20, 11, 3, 37, 8, 37, 3, 14, 37, 22, 7, 0, 19, 37, 2, 14, 20, 11, 3, 37, 8, 37, 3, 14, 36, 37, 36, 37]\n"
     ]
    }
   ],
   "source": [
    "print(index_string(song_lyrics[0], char2index))"
   ]
  },
  {
   "cell_type": "code",
   "execution_count": 252,
   "metadata": {},
   "outputs": [],
   "source": [
    "song_lyrics_indexed = list(map(lambda x: index_string(x, char2index), song_lyrics))\n"
   ]
  },
  {
   "cell_type": "code",
   "execution_count": 253,
   "metadata": {},
   "outputs": [],
   "source": [
    "def length_distribution(seq_list):\n",
    "    '''\n",
    "    Prints median, value at 90th percentile and plts a density plt\n",
    "    Input:\n",
    "        -list of numbers\n",
    "    '''\n",
    "    lengths = [len(seq) for seq in seq_list]\n",
    "    print(\"median:\",np.median(lengths))\n",
    "    print(\"90th percentile\", np.quantile(lengths,0.9))\n",
    "    sns.kdeplot(lengths)"
   ]
  },
  {
   "cell_type": "code",
   "execution_count": 254,
   "metadata": {},
   "outputs": [
    {
     "name": "stdout",
     "output_type": "stream",
     "text": [
      "Plot for distribution of number of characters in a song lyrics\n",
      "\n",
      "median: 1222.0\n",
      "90th percentile 1891.0999999999997\n"
     ]
    },
    {
     "name": "stderr",
     "output_type": "stream",
     "text": [
      "/home/ec2-user/anaconda3/envs/pytorch_p36/lib/python3.6/site-packages/scipy/stats/stats.py:1713: FutureWarning: Using a non-tuple sequence for multidimensional indexing is deprecated; use `arr[tuple(seq)]` instead of `arr[seq]`. In the future this will be interpreted as an array index, `arr[np.array(seq)]`, which will result either in an error or a different result.\n",
      "  return np.add.reduce(sorted[indexer] * weights, axis=axis) / sumval\n"
     ]
    },
    {
     "data": {
      "image/png": "[encoded data removed]",
      "text/plain": [
       "<Figure size 432x288 with 1 Axes>"
      ]
     },
     "metadata": {},
     "output_type": "display_data"
    }
   ],
   "source": [
    "print(\"Plot for distribution of number of characters in a song lyrics\\n\")\n",
    "length_distribution(song_lyrics)"
   ]
  },
  {
   "cell_type": "code",
   "execution_count": 255,
   "metadata": {},
   "outputs": [],
   "source": [
    "#to save memory\n",
    "del song_lyrics"
   ]
  },
  {
   "cell_type": "code",
   "execution_count": 256,
   "metadata": {},
   "outputs": [],
   "source": [
    "from itertools import chain\n",
    "song_lyrics_indexed = list(chain.from_iterable(song_lyrics_indexed))"
   ]
  },
  {
   "cell_type": "code",
   "execution_count": 257,
   "metadata": {},
   "outputs": [],
   "source": [
    "MAXLEN_LYRICS = 51\n",
    "def chunk(indexed_list, max_len):\n",
    "    '''\n",
    "    Returns a list of list (length = max_len) from a list of integers\n",
    "    Input:\n",
    "        indexed_list: List of integers\n",
    "        max_len: length of chunks\n",
    "    Output:\n",
    "        list of list (of length = max_len)\n",
    "    '''\n",
    "    lyrics = []\n",
    "    for i in range(0,len(indexed_list)-max_len):\n",
    "        lyrics.append(indexed_list[i:i+max_len])\n",
    "    return lyrics\n",
    "\n",
    "song_lyrics_indexed = chunk(song_lyrics_indexed, MAXLEN_LYRICS)"
   ]
  },
  {
   "cell_type": "code",
   "execution_count": 258,
   "metadata": {},
   "outputs": [
    {
     "data": {
      "text/plain": [
       "260279"
      ]
     },
     "execution_count": 258,
     "metadata": {},
     "output_type": "execute_result"
    }
   ],
   "source": [
    "len(song_lyrics_indexed)"
   ]
  },
  {
   "cell_type": "markdown",
   "metadata": {},
   "source": [
    "## Make Input and Target Sequence"
   ]
  },
  {
   "cell_type": "code",
   "execution_count": 259,
   "metadata": {},
   "outputs": [],
   "source": [
    "song_lyrics_input = [lyrics[:-1] for lyrics in song_lyrics_indexed]\n",
    "song_lyrics_target = [lyrics[-1:] for lyrics in song_lyrics_indexed]"
   ]
  },
  {
   "cell_type": "markdown",
   "metadata": {},
   "source": []
  },
  {
   "cell_type": "code",
   "execution_count": 260,
   "metadata": {},
   "outputs": [
    {
     "name": "stdout",
     "output_type": "stream",
     "text": [
      "Example input and target sequence\n",
      "[14, 14, 10, 37, 0, 19, 37, 7, 4, 17, 37, 5, 0, 2, 4, 37, 8, 19, 18, 37, 0, 37, 22, 14, 13, 3, 4, 17, 5, 20, 11, 37, 5, 0, 2, 4, 37, 37, 36, 37, 0, 13, 3, 37, 8, 19, 37, 12, 4, 0]\n",
      "[13]\n"
     ]
    }
   ],
   "source": [
    "print(\"Example input and target sequence\")\n",
    "print(song_lyrics_input[1])\n",
    "print(song_lyrics_target[1])"
   ]
  },
  {
   "cell_type": "code",
   "execution_count": 261,
   "metadata": {},
   "outputs": [],
   "source": [
    "if torch.cuda.is_available():\n",
    "    device = 'cuda'\n",
    "    \n",
    "else:\n",
    "    device = 'cpu'"
   ]
  },
  {
   "cell_type": "code",
   "execution_count": 262,
   "metadata": {},
   "outputs": [],
   "source": [
    "song_lyrics_input = torch.LongTensor(np.array(song_lyrics_input)).to(device)\n",
    "\n",
    "song_lyrics_target = torch.LongTensor(np.array(song_lyrics_target)).to(device)"
   ]
  },
  {
   "cell_type": "code",
   "execution_count": 263,
   "metadata": {},
   "outputs": [
    {
     "data": {
      "text/plain": [
       "260279"
      ]
     },
     "execution_count": 263,
     "metadata": {},
     "output_type": "execute_result"
    }
   ],
   "source": [
    "song_lyrics_input.shape[0]"
   ]
  },
  {
   "cell_type": "code",
   "execution_count": 264,
   "metadata": {},
   "outputs": [],
   "source": [
    "TRAIN_SIZE = int(0.9*song_lyrics_input.shape[0])\n",
    "train_X = song_lyrics_input[:TRAIN_SIZE]\n",
    "train_y = song_lyrics_target[:TRAIN_SIZE]\n",
    "\n",
    "test_X = song_lyrics_input[TRAIN_SIZE:]\n",
    "test_y = song_lyrics_target[TRAIN_SIZE:]"
   ]
  },
  {
   "cell_type": "code",
   "execution_count": 265,
   "metadata": {},
   "outputs": [],
   "source": [
    "del song_lyrics_input, song_lyrics_target"
   ]
  },
  {
   "cell_type": "code",
   "execution_count": 266,
   "metadata": {},
   "outputs": [],
   "source": [
    "import boto3\n",
    "import sagemaker\n",
    "from sagemaker import get_execution_role"
   ]
  },
  {
   "cell_type": "code",
   "execution_count": 267,
   "metadata": {},
   "outputs": [],
   "source": [
    "# SageMaker session and role\n",
    "sagemaker_session = sagemaker.Session()\n",
    "role = sagemaker.get_execution_role()\n",
    "\n",
    "# default S3 bucket\n",
    "bucket = sagemaker_session.default_bucket()"
   ]
  },
  {
   "cell_type": "code",
   "execution_count": 268,
   "metadata": {},
   "outputs": [],
   "source": [
    "import pickle\n",
    "import os\n",
    "def save_sequence(sequence, filename, PATH):\n",
    "    '''\n",
    "    saves sequence to specified directory\n",
    "    '''\n",
    "    if not os.path.exists(PATH):\n",
    "        os.makedirs(PATH)\n",
    "        \n",
    "    data_dir = os.path.join(PATH, filename)\n",
    "    with open(data_dir,'wb') as file:\n",
    "        pickle.dump(sequence,file)\n"
   ]
  },
  {
   "cell_type": "code",
   "execution_count": 269,
   "metadata": {},
   "outputs": [],
   "source": [
    "save_sequence(train_X,'input.pkl','data/')\n",
    "save_sequence(train_y,'target.pkl','data/')"
   ]
  },
  {
   "cell_type": "code",
   "execution_count": 270,
   "metadata": {},
   "outputs": [],
   "source": [
    "def load_sequence(filename, PATH):\n",
    "    '''\n",
    "    loads sequence data from the specified directory\n",
    "    '''\n",
    "    data_dir = os.path.join(PATH, filename)\n",
    "    with open(data_dir,'rb') as file:\n",
    "        data = pickle.load(file)\n",
    "    \n",
    "    return data"
   ]
  },
  {
   "cell_type": "code",
   "execution_count": 271,
   "metadata": {},
   "outputs": [
    {
     "name": "stdout",
     "output_type": "stream",
     "text": [
      "s3://sagemaker-ap-south-1-806732165461/lyrics-data\n"
     ]
    }
   ],
   "source": [
    "# specify where to upload in S3\n",
    "prefix = 'lyrics-data'\n",
    "data_dir = 'data'\n",
    "\n",
    "# upload to S3\n",
    "input_data = sagemaker_session.upload_data(path=data_dir, bucket=bucket, key_prefix=prefix)\n",
    "print(input_data)"
   ]
  },
  {
   "cell_type": "code",
   "execution_count": 272,
   "metadata": {},
   "outputs": [
    {
     "name": "stdout",
     "output_type": "stream",
     "text": [
      "lyrics-data/input.pkl\n",
      "lyrics-data/sagemaker-pytorch-2019-08-30-07-50-42-869/output/model.tar.gz\n",
      "lyrics-data/sagemaker-pytorch-2019-08-30-11-24-45-374/output/model.tar.gz\n",
      "lyrics-data/sagemaker-pytorch-2019-08-30-12-59-29-282/output/model.tar.gz\n",
      "lyrics-data/songdata.csv\n",
      "lyrics-data/target.pkl\n",
      "sagemaker-pytorch-2019-08-30-07-50-42-869/source/sourcedir.tar.gz\n",
      "sagemaker-pytorch-2019-08-30-10-27-19-780/source/sourcedir.tar.gz\n",
      "sagemaker-pytorch-2019-08-30-10-30-51-510/source/sourcedir.tar.gz\n",
      "sagemaker-pytorch-2019-08-30-10-49-40-107/sourcedir.tar.gz\n",
      "sagemaker-pytorch-2019-08-30-10-49-41-475/sourcedir.tar.gz\n",
      "sagemaker-pytorch-2019-08-30-11-08-08-876/sourcedir.tar.gz\n",
      "sagemaker-pytorch-2019-08-30-11-24-45-374/source/sourcedir.tar.gz\n",
      "sagemaker-pytorch-2019-08-30-11-40-03-817/sourcedir.tar.gz\n",
      "sagemaker-pytorch-2019-08-30-12-06-56-258/sourcedir.tar.gz\n",
      "sagemaker-pytorch-2019-08-30-12-24-29-392/sourcedir.tar.gz\n",
      "sagemaker-pytorch-2019-08-30-12-40-00-722/sourcedir.tar.gz\n",
      "sagemaker-pytorch-2019-08-30-12-53-04-752/sourcedir.tar.gz\n",
      "sagemaker-pytorch-2019-08-30-12-59-29-282/source/sourcedir.tar.gz\n",
      "sagemaker-pytorch-2019-08-30-13-14-47-435/sourcedir.tar.gz\n",
      "sagemaker-pytorch-2019-08-30-14-14-10-972/sourcedir.tar.gz\n",
      "sagemaker-pytorch-2019-08-30-14-26-07-161/sourcedir.tar.gz\n",
      "sagemaker-pytorch-2019-08-30-14-26-09-211/sourcedir.tar.gz\n",
      "sagemaker-pytorch-2019-08-30-14-49-50-622/sourcedir.tar.gz\n"
     ]
    }
   ],
   "source": [
    "# iterate through S3 objects and print contents\n",
    "for obj in boto3.resource('s3').Bucket(bucket).objects.all():\n",
    "     print(obj.key)"
   ]
  },
  {
   "cell_type": "markdown",
   "metadata": {},
   "source": [
    "## Model Building\n",
    "We now move on to building our model. First we focus on building a CNN encoder, then a decoder"
   ]
  },
  {
   "cell_type": "markdown",
   "metadata": {},
   "source": [
    "### LSTM Model Script"
   ]
  },
  {
   "cell_type": "code",
   "execution_count": 273,
   "metadata": {},
   "outputs": [
    {
     "name": "stdout",
     "output_type": "stream",
     "text": [
      "\u001b[34mimport\u001b[39;49;00m \u001b[04m\u001b[36mpandas\u001b[39;49;00m \u001b[34mas\u001b[39;49;00m \u001b[04m\u001b[36mpd\u001b[39;49;00m\r\n",
      "\u001b[34mimport\u001b[39;49;00m \u001b[04m\u001b[36mnumpy\u001b[39;49;00m \u001b[34mas\u001b[39;49;00m \u001b[04m\u001b[36mnp\u001b[39;49;00m\r\n",
      "\u001b[34mimport\u001b[39;49;00m \u001b[04m\u001b[36mtorch\u001b[39;49;00m\r\n",
      "\u001b[34mimport\u001b[39;49;00m \u001b[04m\u001b[36mtorch.utils.data\u001b[39;49;00m\r\n",
      "\u001b[34mimport\u001b[39;49;00m \u001b[04m\u001b[36mtorch.nn\u001b[39;49;00m \u001b[34mas\u001b[39;49;00m \u001b[04m\u001b[36mnn\u001b[39;49;00m\r\n",
      "\u001b[34mfrom\u001b[39;49;00m \u001b[04m\u001b[36mtorch.autograd\u001b[39;49;00m \u001b[34mimport\u001b[39;49;00m Variable\r\n",
      "\u001b[34mfrom\u001b[39;49;00m \u001b[04m\u001b[36mtorch\u001b[39;49;00m \u001b[34mimport\u001b[39;49;00m optim\r\n",
      "\u001b[34mimport\u001b[39;49;00m \u001b[04m\u001b[36mtorch.nn.functional\u001b[39;49;00m \u001b[34mas\u001b[39;49;00m \u001b[04m\u001b[36mF\u001b[39;49;00m\r\n",
      "\u001b[34mimport\u001b[39;49;00m \u001b[04m\u001b[36mmatplotlib.pyplot\u001b[39;49;00m \u001b[34mas\u001b[39;49;00m \u001b[04m\u001b[36mplt\u001b[39;49;00m\r\n",
      "\u001b[34mimport\u001b[39;49;00m \u001b[04m\u001b[36mre\u001b[39;49;00m\r\n",
      "\u001b[34mimport\u001b[39;49;00m \u001b[04m\u001b[36mstring\u001b[39;49;00m\r\n",
      "\r\n",
      "\r\n",
      "\r\n",
      "\u001b[34mclass\u001b[39;49;00m \u001b[04m\u001b[32mDecoderLSTM\u001b[39;49;00m(nn.Module):\r\n",
      "    \u001b[34mdef\u001b[39;49;00m \u001b[32m__init__\u001b[39;49;00m(\u001b[36mself\u001b[39;49;00m, embedding_dim, vocab_size, hidden_size, num_layers, dropout = \u001b[34m0.5\u001b[39;49;00m):\r\n",
      "        \u001b[36msuper\u001b[39;49;00m(DecoderLSTM, \u001b[36mself\u001b[39;49;00m).\u001b[32m__init__\u001b[39;49;00m()\r\n",
      "        \u001b[36mself\u001b[39;49;00m.embedding_dim = embedding_dim\r\n",
      "        \u001b[36mself\u001b[39;49;00m.vocab_size = vocab_size\r\n",
      "        \u001b[36mself\u001b[39;49;00m.hidden_size = hidden_size\r\n",
      "        \u001b[36mself\u001b[39;49;00m.num_layers = num_layers\r\n",
      "        \u001b[36mself\u001b[39;49;00m.embedding = nn.Embedding(vocab_size, embedding_dim)\r\n",
      "        \u001b[36mself\u001b[39;49;00m.dropout = dropout\r\n",
      "        \r\n",
      "        \u001b[36mself\u001b[39;49;00m.lstm = nn.LSTM(\u001b[36mself\u001b[39;49;00m.embedding_dim, \u001b[36mself\u001b[39;49;00m.hidden_size, \u001b[36mself\u001b[39;49;00m.num_layers, \r\n",
      "                            dropout = dropout, batch_first = \u001b[36mTrue\u001b[39;49;00m)\r\n",
      "        \u001b[36mself\u001b[39;49;00m.linear = nn.Linear(hidden_size, \u001b[36mself\u001b[39;49;00m.vocab_size)\r\n",
      "        \r\n",
      "    \u001b[34mdef\u001b[39;49;00m \u001b[32mforward\u001b[39;49;00m(\u001b[36mself\u001b[39;49;00m, x): \r\n",
      "        output = \u001b[36mself\u001b[39;49;00m.embedding(x)\r\n",
      "        output,_ = \u001b[36mself\u001b[39;49;00m.lstm(output)\r\n",
      "        output = \u001b[36mself\u001b[39;49;00m.linear(output[:,-\u001b[34m1\u001b[39;49;00m,:])\r\n",
      "        \u001b[34mreturn\u001b[39;49;00m output\r\n"
     ]
    }
   ],
   "source": [
    "!pygmentize source/model.py"
   ]
  },
  {
   "cell_type": "code",
   "execution_count": 274,
   "metadata": {},
   "outputs": [],
   "source": [
    "HIDDEN_DIM = 512\n",
    "NUM_LAYERS = 2\n",
    "INPUT_LEN = MAXLEN_LYRICS-1\n",
    "EMBEDDING_DIM = 256"
   ]
  },
  {
   "cell_type": "code",
   "execution_count": 275,
   "metadata": {},
   "outputs": [],
   "source": [
    "# import a PyTorch wrapper\n",
    "from sagemaker.pytorch import PyTorch\n",
    "\n",
    "# specify an output path\n",
    "# prefix is specified above\n",
    "output_path = 's3://{}/{}'.format(bucket, prefix)\n",
    "\n",
    "# instantiate a pytorch estimator\n",
    "estimator = PyTorch(entry_point='train.py',\n",
    "                    source_dir='source', # this should be just \"source\" for your code\n",
    "                    role=role,\n",
    "                    framework_version='1.0',\n",
    "                    train_instance_count=1,\n",
    "                    train_instance_type='ml.p2.xlarge',\n",
    "                    output_path=output_path,\n",
    "                    sagemaker_session=sagemaker_session,\n",
    "                    hyperparameters={\n",
    "                        'embedding_dim':256,  # num of features\n",
    "                        'hidden_dim': 512,\n",
    "                        'vocab_size': len(char2index),\n",
    "                        'epochs': 10 \n",
    "                    })"
   ]
  },
  {
   "cell_type": "code",
   "execution_count": 276,
   "metadata": {},
   "outputs": [
    {
     "name": "stdout",
     "output_type": "stream",
     "text": [
      "2019-08-31 11:53:26 Starting - Starting the training job...\n",
      "2019-08-31 11:53:31 Starting - Launching requested ML instances......\n",
      "2019-08-31 11:54:28 Starting - Preparing the instances for training......\n",
      "2019-08-31 11:55:49 Downloading - Downloading input data\n",
      "2019-08-31 11:55:49 Training - Downloading the training image......\n",
      "2019-08-31 11:56:52 Training - Training image download completed. Training in progress..\n",
      "\u001b[31mbash: cannot set terminal process group (-1): Inappropriate ioctl for device\u001b[0m\n",
      "\u001b[31mbash: no job control in this shell\u001b[0m\n",
      "\u001b[31m2019-08-31 11:56:52,996 sagemaker-containers INFO     Imported framework sagemaker_pytorch_container.training\u001b[0m\n",
      "\u001b[31m2019-08-31 11:56:53,021 sagemaker_pytorch_container.training INFO     Block until all host DNS lookups succeed.\u001b[0m\n",
      "\u001b[31m2019-08-31 11:56:54,438 sagemaker_pytorch_container.training INFO     Invoking user training script.\u001b[0m\n",
      "\u001b[31m2019-08-31 11:56:54,681 sagemaker-containers INFO     Module train does not provide a setup.py. \u001b[0m\n",
      "\u001b[31mGenerating setup.py\u001b[0m\n",
      "\u001b[31m2019-08-31 11:56:54,682 sagemaker-containers INFO     Generating setup.cfg\u001b[0m\n",
      "\u001b[31m2019-08-31 11:56:54,682 sagemaker-containers INFO     Generating MANIFEST.in\u001b[0m\n",
      "\u001b[31m2019-08-31 11:56:54,682 sagemaker-containers INFO     Installing module with the following command:\u001b[0m\n",
      "\u001b[31m/usr/bin/python -m pip install -U . \u001b[0m\n",
      "\u001b[31mProcessing /opt/ml/code\u001b[0m\n",
      "\u001b[31mBuilding wheels for collected packages: train\n",
      "  Running setup.py bdist_wheel for train: started\n",
      "  Running setup.py bdist_wheel for train: finished with status 'done'\n",
      "  Stored in directory: /tmp/pip-ephem-wheel-cache-nzzn3clg/wheels/35/24/16/37574d11bf9bde50616c67372a334f94fa8356bc7164af8ca3\u001b[0m\n",
      "\u001b[31mSuccessfully built train\u001b[0m\n",
      "\u001b[31mInstalling collected packages: train\u001b[0m\n",
      "\u001b[31mSuccessfully installed train-1.0.0\u001b[0m\n",
      "\u001b[31mYou are using pip version 18.1, however version 19.2.3 is available.\u001b[0m\n",
      "\u001b[31mYou should consider upgrading via the 'pip install --upgrade pip' command.\u001b[0m\n",
      "\u001b[31m2019-08-31 11:56:56,692 sagemaker-containers INFO     Invoking user script\n",
      "\u001b[0m\n",
      "\u001b[31mTraining Env:\n",
      "\u001b[0m\n",
      "\u001b[31m{\n",
      "    \"additional_framework_parameters\": {},\n",
      "    \"channel_input_dirs\": {\n",
      "        \"train\": \"/opt/ml/input/data/train\"\n",
      "    },\n",
      "    \"current_host\": \"algo-1\",\n",
      "    \"framework_module\": \"sagemaker_pytorch_container.training:main\",\n",
      "    \"hosts\": [\n",
      "        \"algo-1\"\n",
      "    ],\n",
      "    \"hyperparameters\": {\n",
      "        \"hidden_dim\": 512,\n",
      "        \"embedding_dim\": 256,\n",
      "        \"vocab_size\": 38,\n",
      "        \"epochs\": 10\n",
      "    },\n",
      "    \"input_config_dir\": \"/opt/ml/input/config\",\n",
      "    \"input_data_config\": {\n",
      "        \"train\": {\n",
      "            \"TrainingInputMode\": \"File\",\n",
      "            \"S3DistributionType\": \"FullyReplicated\",\n",
      "            \"RecordWrapperType\": \"None\"\n",
      "        }\n",
      "    },\n",
      "    \"input_dir\": \"/opt/ml/input\",\n",
      "    \"is_master\": true,\n",
      "    \"job_name\": \"sagemaker-pytorch-2019-08-31-11-53-26-135\",\n",
      "    \"log_level\": 20,\n",
      "    \"master_hostname\": \"algo-1\",\n",
      "    \"model_dir\": \"/opt/ml/model\",\n",
      "    \"module_dir\": \"s3://sagemaker-ap-south-1-806732165461/sagemaker-pytorch-2019-08-31-11-53-26-135/source/sourcedir.tar.gz\",\n",
      "    \"module_name\": \"train\",\n",
      "    \"network_interface_name\": \"eth0\",\n",
      "    \"num_cpus\": 4,\n",
      "    \"num_gpus\": 1,\n",
      "    \"output_data_dir\": \"/opt/ml/output/data\",\n",
      "    \"output_dir\": \"/opt/ml/output\",\n",
      "    \"output_intermediate_dir\": \"/opt/ml/output/intermediate\",\n",
      "    \"resource_config\": {\n",
      "        \"current_host\": \"algo-1\",\n",
      "        \"hosts\": [\n",
      "            \"algo-1\"\n",
      "        ],\n",
      "        \"network_interface_name\": \"eth0\"\n",
      "    },\n",
      "    \"user_entry_point\": \"train.py\"\u001b[0m\n",
      "\u001b[31m}\n",
      "\u001b[0m\n",
      "\u001b[31mEnvironment variables:\n",
      "\u001b[0m\n",
      "\u001b[31mSM_HOSTS=[\"algo-1\"]\u001b[0m\n",
      "\u001b[31mSM_NETWORK_INTERFACE_NAME=eth0\u001b[0m\n",
      "\u001b[31mSM_HPS={\"embedding_dim\":256,\"epochs\":10,\"hidden_dim\":512,\"vocab_size\":38}\u001b[0m\n",
      "\u001b[31mSM_USER_ENTRY_POINT=train.py\u001b[0m\n",
      "\u001b[31mSM_FRAMEWORK_PARAMS={}\u001b[0m\n",
      "\u001b[31mSM_RESOURCE_CONFIG={\"current_host\":\"algo-1\",\"hosts\":[\"algo-1\"],\"network_interface_name\":\"eth0\"}\u001b[0m\n",
      "\u001b[31mSM_INPUT_DATA_CONFIG={\"train\":{\"RecordWrapperType\":\"None\",\"S3DistributionType\":\"FullyReplicated\",\"TrainingInputMode\":\"File\"}}\u001b[0m\n",
      "\u001b[31mSM_OUTPUT_DATA_DIR=/opt/ml/output/data\u001b[0m\n",
      "\u001b[31mSM_CHANNELS=[\"train\"]\u001b[0m\n",
      "\u001b[31mSM_CURRENT_HOST=algo-1\u001b[0m\n",
      "\u001b[31mSM_MODULE_NAME=train\u001b[0m\n",
      "\u001b[31mSM_LOG_LEVEL=20\u001b[0m\n",
      "\u001b[31mSM_FRAMEWORK_MODULE=sagemaker_pytorch_container.training:main\u001b[0m\n",
      "\u001b[31mSM_INPUT_DIR=/opt/ml/input\u001b[0m\n",
      "\u001b[31mSM_INPUT_CONFIG_DIR=/opt/ml/input/config\u001b[0m\n",
      "\u001b[31mSM_OUTPUT_DIR=/opt/ml/output\u001b[0m\n",
      "\u001b[31mSM_NUM_CPUS=4\u001b[0m\n",
      "\u001b[31mSM_NUM_GPUS=1\u001b[0m\n",
      "\u001b[31mSM_MODEL_DIR=/opt/ml/model\u001b[0m\n",
      "\u001b[31mSM_MODULE_DIR=s3://sagemaker-ap-south-1-806732165461/sagemaker-pytorch-2019-08-31-11-53-26-135/source/sourcedir.tar.gz\u001b[0m\n",
      "\u001b[31mSM_TRAINING_ENV={\"additional_framework_parameters\":{},\"channel_input_dirs\":{\"train\":\"/opt/ml/input/data/train\"},\"current_host\":\"algo-1\",\"framework_module\":\"sagemaker_pytorch_container.training:main\",\"hosts\":[\"algo-1\"],\"hyperparameters\":{\"embedding_dim\":256,\"epochs\":10,\"hidden_dim\":512,\"vocab_size\":38},\"input_config_dir\":\"/opt/ml/input/config\",\"input_data_config\":{\"train\":{\"RecordWrapperType\":\"None\",\"S3DistributionType\":\"FullyReplicated\",\"TrainingInputMode\":\"File\"}},\"input_dir\":\"/opt/ml/input\",\"is_master\":true,\"job_name\":\"sagemaker-pytorch-2019-08-31-11-53-26-135\",\"log_level\":20,\"master_hostname\":\"algo-1\",\"model_dir\":\"/opt/ml/model\",\"module_dir\":\"s3://sagemaker-ap-south-1-806732165461/sagemaker-pytorch-2019-08-31-11-53-26-135/source/sourcedir.tar.gz\",\"module_name\":\"train\",\"network_interface_name\":\"eth0\",\"num_cpus\":4,\"num_gpus\":1,\"output_data_dir\":\"/opt/ml/output/data\",\"output_dir\":\"/opt/ml/output\",\"output_intermediate_dir\":\"/opt/ml/output/intermediate\",\"resource_config\":{\"current_host\":\"algo-1\",\"hosts\":[\"algo-1\"],\"network_interface_name\":\"eth0\"},\"user_entry_point\":\"train.py\"}\u001b[0m\n",
      "\u001b[31mSM_USER_ARGS=[\"--embedding_dim\",\"256\",\"--epochs\",\"10\",\"--hidden_dim\",\"512\",\"--vocab_size\",\"38\"]\u001b[0m\n",
      "\u001b[31mSM_OUTPUT_INTERMEDIATE_DIR=/opt/ml/output/intermediate\u001b[0m\n",
      "\u001b[31mSM_CHANNEL_TRAIN=/opt/ml/input/data/train\u001b[0m\n",
      "\u001b[31mSM_HP_HIDDEN_DIM=512\u001b[0m\n",
      "\u001b[31mSM_HP_EMBEDDING_DIM=256\u001b[0m\n",
      "\u001b[31mSM_HP_VOCAB_SIZE=38\u001b[0m\n",
      "\u001b[31mSM_HP_EPOCHS=10\u001b[0m\n",
      "\u001b[31mPYTHONPATH=/usr/local/bin:/usr/lib/python36.zip:/usr/lib/python3.6:/usr/lib/python3.6/lib-dynload:/usr/local/lib/python3.6/dist-packages:/usr/lib/python3/dist-packages\n",
      "\u001b[0m\n",
      "\u001b[31mInvoking script with the following command:\n",
      "\u001b[0m\n",
      "\u001b[31m/usr/bin/python -m train --embedding_dim 256 --epochs 10 --hidden_dim 512 --vocab_size 38\n",
      "\n",
      "\u001b[0m\n",
      "\u001b[31mGet data loader.\u001b[0m\n",
      "\u001b[31mEpoch: 0, Loss: 1.593831347807192\u001b[0m\n",
      "\u001b[31mEpoch: 1, Loss: 1.2782215077586672\u001b[0m\n",
      "\u001b[31mEpoch: 2, Loss: 1.1680524459893036\u001b[0m\n",
      "\u001b[31mEpoch: 3, Loss: 1.0922196042596284\u001b[0m\n",
      "\u001b[31mEpoch: 4, Loss: 1.035824627677057\u001b[0m\n",
      "\u001b[31mEpoch: 5, Loss: 0.9905693471464285\u001b[0m\n",
      "\u001b[31mEpoch: 6, Loss: 0.9513046476503724\u001b[0m\n",
      "\u001b[31mEpoch: 7, Loss: 0.9226704173437043\u001b[0m\n",
      "\u001b[31mEpoch: 8, Loss: 0.896770927113044\u001b[0m\n",
      "\n",
      "2019-08-31 12:27:43 Uploading - Uploading generated training model\u001b[31mEpoch: 9, Loss: 0.8728668514917874\u001b[0m\n",
      "\u001b[31mSaving the model.\u001b[0m\n",
      "\u001b[31m2019-08-31 12:27:42,312 sagemaker-containers INFO     Reporting training SUCCESS\u001b[0m\n",
      "\n",
      "2019-08-31 12:27:48 Completed - Training job completed\n",
      "Billable seconds: 1935\n",
      "CPU times: user 3.85 s, sys: 106 ms, total: 3.96 s\n",
      "Wall time: 34min 59s\n"
     ]
    }
   ],
   "source": [
    "%%time \n",
    "# train the estimator on S3 training data\n",
    "estimator.fit({'train': input_data})"
   ]
  },
  {
   "cell_type": "code",
   "execution_count": 297,
   "metadata": {},
   "outputs": [],
   "source": [
    "# importing PyTorchModel\n",
    "from sagemaker.pytorch import PyTorchModel\n",
    "\n",
    "# Create a model from the trained estimator data\n",
    "# And point to the prediction script\n",
    "model = PyTorchModel(model_data=estimator.model_data,\n",
    "                     role = role,\n",
    "                     framework_version='1.0',\n",
    "                     entry_point='predict.py',\n",
    "                     source_dir='source')"
   ]
  },
  {
   "cell_type": "code",
   "execution_count": null,
   "metadata": {},
   "outputs": [
    {
     "name": "stdout",
     "output_type": "stream",
     "text": [
      "-------------------------------------------------------------------------------------------------------------!CPU times: user 637 ms, sys: 37.4 ms, total: 674 ms\n",
      "Wall time: 9min 16s\n"
     ]
    }
   ],
   "source": [
    "%%time\n",
    "# deploy and create a predictor\n",
    "predictor = model.deploy(initial_instance_count=1, instance_type='ml.t2.medium')"
   ]
  },
  {
   "cell_type": "markdown",
   "metadata": {},
   "source": [
    "### Measure Accuracy\n"
   ]
  },
  {
   "cell_type": "code",
   "execution_count": 303,
   "metadata": {},
   "outputs": [
    {
     "data": {
      "text/plain": [
       "0.5883537813587255"
      ]
     },
     "execution_count": 303,
     "metadata": {},
     "output_type": "execute_result"
    }
   ],
   "source": [
    "# train = torch.utils.data.TensorDataset(song_lyrics_input,song_lyrics_target)\n",
    "# train_loader = torch.utils.data.DataLoader(train, batch_size = 128, shuffle=True)\n",
    "def compute_accuracy(model, test_X, test_y):\n",
    "    '''\n",
    "    Computes test accuracy from a model\n",
    "    -Input:\n",
    "        model: PyTorch model endpoint\n",
    "        test_X: test input of shape (number of datapoints, INPUT_LEN (=50))\n",
    "        test_y: test input of shape (number of datapoints, -1)\n",
    "    -Output:\n",
    "        accuracy: float\n",
    "    '''\n",
    "    output = model.predict(Variable(torch.LongTensor(test_X).to('cpu').view(-1, INPUT_LEN)))\n",
    "    output = torch.argmax(torch.from_numpy(output), dim=1 )\n",
    "    output = output.view(-1)\n",
    "    test_y = test_y.view(-1)\n",
    "    accuracy = float(torch.sum(output == test_y))/float(output.size(-1))\n",
    "    return accuracy\n",
    "\n",
    "score = []\n",
    "for i in range(test_X.shape[0]-1):\n",
    "    score.append(compute_accuracy(predictor, test_X[i:i+1], test_y[i:i+1]))\n",
    "#connection failed error for larger sizes of test set\n",
    "sum(score)/len(score)"
   ]
  },
  {
   "cell_type": "markdown",
   "metadata": {},
   "source": [
    "## Generate Predictions"
   ]
  },
  {
   "cell_type": "code",
   "execution_count": 225,
   "metadata": {},
   "outputs": [],
   "source": [
    "def sample(preds, temperature=1.0):\n",
    "    '''\n",
    "    Randomly samples character based on output probabilities\n",
    "    Input:\n",
    "        -preds: model prediction (of the size = vocab_size)\n",
    "    '''\n",
    "    preds = np.asarray(preds).astype('float64')\n",
    "    preds = np.log(preds) / temperature\n",
    "    exp_preds = np.exp(preds)\n",
    "    preds = exp_preds / np.sum(exp_preds)\n",
    "    probas = np.random.multinomial(1, preds, 1)\n",
    "    return np.argmax(probas)"
   ]
  },
  {
   "cell_type": "code",
   "execution_count": 315,
   "metadata": {},
   "outputs": [
    {
     "name": "stdout",
     "output_type": "stream",
     "text": [
      "it was summer \n",
      " i was having the best time of my life  \n",
      " when you can hear them will didnt he  \n",
      " you can do magic  \n",
      " i wont let you go  \n",
      " what is right for me  \n",
      " what about livingstone  \n",
      "   \n",
      " we wish i would lose her  \n",
      " were gonna live a little love affairs  \n",
      "   \n",
      " nina pretty ballerina now thats all the fun  \n",
      " suppper trooppper  \n",
      " smiling having for these visitors  \n",
      " my friends do  \n",
      "   \n",
      " im a bird dog  \n",
      " they drum the way that you try and the lights\n"
     ]
    }
   ],
   "source": [
    "# Define the start sentence\n",
    "sentence = 'it was summer ! i was having the best time of my life'\n",
    "\n",
    "variance = 0.4\n",
    "generated = ''\n",
    "original = sentence\n",
    "window = sentence\n",
    "\n",
    "for i in range(400):\n",
    "    generate = index_string(sentence, char2index)[-INPUT_LEN:]\n",
    "#     print(generate)\n",
    "    # Change the sentence to index vector shape (1,50)\n",
    "        \n",
    "    x_in = Variable(torch.LongTensor(generate).to('cpu')).view(-1,INPUT_LEN)\n",
    "    pred = predictor.predict(x_in)\n",
    "    pred = torch.from_numpy(pred)\n",
    "    pred = np.array(F.softmax(pred, dim=1).data[0].cpu())\n",
    "    pred = torch.from_numpy(pred)\n",
    "    next_index = sample(pred, variance)\n",
    "    next_char = index2char[next_index] # index to char\n",
    "\n",
    "    generated += next_char\n",
    "    sentence += next_char # Update Window for next char predict\n",
    "    \n",
    "print(sentence.replace('!','\\n'))"
   ]
  },
  {
   "cell_type": "code",
   "execution_count": 316,
   "metadata": {},
   "outputs": [],
   "source": [
    "predictor.delete_endpoint()"
   ]
  },
  {
   "cell_type": "code",
   "execution_count": null,
   "metadata": {},
   "outputs": [],
   "source": []
  },
  {
   "cell_type": "code",
   "execution_count": null,
   "metadata": {},
   "outputs": [],
   "source": []
  },
  {
   "cell_type": "code",
   "execution_count": null,
   "metadata": {},
   "outputs": [],
   "source": []
  }
 ],
 "metadata": {
  "kernelspec": {
   "display_name": "conda_pytorch_p36",
   "language": "python",
   "name": "conda_pytorch_p36"
  },
  "language_info": {
   "codemirror_mode": {
    "name": "ipython",
    "version": 3
   },
   "file_extension": ".py",
   "mimetype": "text/x-python",
   "name": "python",
   "nbconvert_exporter": "python",
   "pygments_lexer": "ipython3",
   "version": "3.6.5"
  }
 },
 "nbformat": 4,
 "nbformat_minor": 2
}
